{
 "nbformat": 4,
 "nbformat_minor": 2,
 "metadata": {
  "language_info": {
   "name": "python",
   "codemirror_mode": {
    "name": "ipython",
    "version": 3
   },
   "version": "3.7.4-final"
  },
  "orig_nbformat": 2,
  "file_extension": ".py",
  "mimetype": "text/x-python",
  "name": "python",
  "npconvert_exporter": "python",
  "pygments_lexer": "ipython3",
  "version": 3,
  "kernelspec": {
   "name": "python37432bit21c61af867d8453f8401e7eca06b3261",
   "display_name": "Python 3.7.4 32-bit"
  }
 },
 "cells": [
  {
   "cell_type": "markdown",
   "metadata": {},
   "source": [
    "# Data preparation for automatic music generation.\n",
    "### Created by Juan Julian Cea Moran\n",
    "#### Github: Juanju97\n",
    "---\n",
    "This notebook is intended to explore the data and generate some insights as well as a suitable preprocessing method which prepares data to be used by the model."
   ],
   "execution_count": null,
   "outputs": []
  },
  {
   "cell_type": "markdown",
   "metadata": {},
   "source": [
    "## Creating vocabulary and data\n",
    "---\n",
    "In this section, the goal is to analize all midi files and generate a vocabulary contaning all different types of notes and chords.\n",
    "We also want to store all midi notes in individual arrays (data object)."
   ],
   "execution_count": null,
   "outputs": []
  },
  {
   "cell_type": "code",
   "execution_count": null,
   "metadata": {},
   "outputs": [],
   "source": [
    "from music21 import converter, instrument, chord, note, pitch\n",
    "import glob\n",
    "\n",
    "vocabulary = set([])\n",
    "data = []\n",
    "i = 0\n",
    "\n",
    "for file in glob.glob(\"../data/classic_dataset/*.mid\"):\n",
    "    midi = converter.parse(file)\n",
    "\n",
    "    tracks = instrument.partitionByInstrument(midi)\n",
    "\n",
    "    if tracks:\n",
    "        main_track = tracks.parts[0].recurse()\n",
    "    else:\n",
    "        main_track = midi.flat.notes\n",
    "\n",
    "    file_notes = []\n",
    "    for e in main_track:\n",
    "        if isinstance(e, note.Note):\n",
    "            element = e.nameWithOctave + \"_\" + str(e.duration.quarterLength)\n",
    "\n",
    "            vocabulary.add(element)\n",
    "            file_notes.append(element)\n",
    "\n",
    "        elif isinstance(e, note.Rest):\n",
    "            element = \"rest_\" + str(e.duration.quarterLength)\n",
    "\n",
    "            vocabulary.add(element)\n",
    "            file_notes.append(element)\n",
    "             \n",
    "        elif isinstance(e, chord.Chord):\n",
    "            chord_notes = '.'.join([str(p) for p in e.pitches])\n",
    "            element = chord_notes + \"_\" + str(e.duration.quarterLength)\n",
    "            \n",
    "            vocabulary.add(element)\n",
    "            file_notes.append(element)\n",
    "    \n",
    "    data.append(file_notes)\n",
    "    i += 1\n",
    "    print(i)"
   ]
  },
  {
   "cell_type": "code",
   "execution_count": 2,
   "metadata": {},
   "outputs": [],
   "source": [
    "import pickle\n",
    "\n",
    "pickle.dump(sorted(vocabulary), open(\"./data/classic_dataset/vocabulary.p\", \"wb\"))\n",
    "pickle.dump(data, open(\"./data/classic_dataset/data.p\", \"wb\"))\n"
   ]
  },
  {
   "cell_type": "markdown",
   "metadata": {},
   "source": [
    "## Mapping the vocabulary and formating data\n",
    "---\n",
    "Now we want to feed the model with this data. The model performs better with numbers, so we need to map each value of the vocabulary into a number so the model can process it."
   ],
   "execution_count": null,
   "outputs": []
  },
  {
   "cell_type": "code",
   "execution_count": 21,
   "metadata": {},
   "outputs": [],
   "source": [
    "import pickle\n",
    "\n",
    "vocabulary = pickle.load(open(\"./data/classic_dataset/vocabulary.p\", \"rb\"))\n",
    "\n",
    "map_voc = dict((element, number) for number, element in enumerate(vocabulary))"
   ]
  },
  {
   "cell_type": "markdown",
   "metadata": {},
   "source": [
    "Now, we have to apply the vocabulary to codificate the data."
   ]
  },
  {
   "cell_type": "code",
   "execution_count": 31,
   "metadata": {},
   "outputs": [],
   "source": [
    "import pandas\n",
    "import numpy\n",
    "\n",
    "formated_data = [[map_voc[n] for n in file] for file in data]\n",
    "\n",
    "pickle.dump(formated_data, open(\"./data/classic_dataset/formated_data.p\", \"wb\"))"
   ]
  }
 ]
}